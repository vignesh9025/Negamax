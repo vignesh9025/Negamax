{
 "cells": [
  {
   "cell_type": "markdown",
   "metadata": {},
   "source": [
    "# Assignment 4: Negamax with Alpha-Beta Pruning and Iterative Deepening"
   ]
  },
  {
   "cell_type": "markdown",
   "metadata": {},
   "source": [
    "## Vignesh Madharapakkam Pagadala"
   ]
  },
  {
   "cell_type": "markdown",
   "metadata": {},
   "source": [
    "## Summary\n"
   ]
  },
  {
   "cell_type": "markdown",
   "metadata": {},
   "source": [
    "# Table of Contents\n",
    "* [Assignment 4: Negamax with Alpha-Beta Pruning and Iterative Deepening](#Assignment-4:-Negamax-with-Alpha-Beta-Pruning-and-Iterative-Deepening)\n",
    "\t* [Functions Implemented](#Functions-Implemented)\n",
    "\t* [Negamax](#Negamax)\n",
    "        * [Overview](#Overview)\n",
    "        * [Algorithm Definition](#Algorithm-Definition)\n",
    "        * [Implementation](#Implementation)\n",
    "        * [Tic-Tac-Toe](#Tic-Tac-Toe)\n",
    "        <br><br>\n",
    "\t* [Negamax with Iterative Deepening](#Negamax-with-Iterative-Deepening)\n",
    "\t* [Negamax with Iterative Deepening and Alpha-Beta Pruning](#Negamax-with-Iterative-Deepening-and-Alpha--Beta-Pruning)\n",
    "\t* [Comparision](#Comparision)"
   ]
  },
  {
   "cell_type": "markdown",
   "metadata": {},
   "source": [
    "### negamax"
   ]
  },
  {
   "cell_type": "code",
   "execution_count": 5,
   "metadata": {
    "collapsed": true
   },
   "outputs": [],
   "source": [
    "def negamax(game, depthLeft):\n",
    "    # If at terminal state or depth limit, return utility value and move None\n",
    "    if game.isOver() or depthLeft == 0:\n",
    "        return game.getUtility(), None\n",
    "    # Find best move and its value from current state\n",
    "    bestValue, bestMove = None, None\n",
    "    for move in game.getMoves():\n",
    "        # Apply a move to current state\n",
    "        game.makeMove(move)\n",
    "        # Use depth-first search to find eventual utility value and back it up.\n",
    "        #  Negate it because it will come back in context of next player\n",
    "        value, _ = negamax(game, depthLeft-1)\n",
    "        # Remove the move from current state, to prepare for trying a different move\n",
    "        game.unmakeMove(move)\n",
    "        if value is None:\n",
    "            continue\n",
    "        value = - value\n",
    "        if bestValue is None or value > bestValue:\n",
    "            # Value for this move is better than moves tried so far from this state.\n",
    "            bestValue, bestMove = value, move\n",
    "    return bestValue, bestMove"
   ]
  },
  {
   "cell_type": "markdown",
   "metadata": {},
   "source": [
    "### classTTT "
   ]
  },
  {
   "cell_type": "code",
   "execution_count": 51,
   "metadata": {
    "collapsed": true
   },
   "outputs": [],
   "source": [
    "class TTT(object):\n",
    "\n",
    "    def __init__(self):\n",
    "        self.movesExplored = 0\n",
    "        self.board = [' ']*9\n",
    "        self.player = 'X'\n",
    "        if False:\n",
    "            #self.board = ['O', 'X', 'X', 'O', 'O', ' ', ' ', 'X', ' ']\n",
    "            self.board = ['O', 'X', 'X', 'O', 'O', ' ', ' ', 'X', ' ']\n",
    "            self.player = 'X'\n",
    "        self.playerLookAHead = self.player\n",
    "\n",
    "    def locations(self, c):\n",
    "        return [i for i, mark in enumerate(self.board) if mark == c]\n",
    "\n",
    "    def getMoves(self):\n",
    "        moves = self.locations(' ')\n",
    "        return moves\n",
    "\n",
    "    def getUtility(self):\n",
    "        whereX = self.locations('X')\n",
    "        whereO = self.locations('O')\n",
    "        wins = [[0, 1, 2], [3, 4, 5], [6, 7, 8],\n",
    "                [0, 3, 6], [1, 4, 7], [2, 5, 8],\n",
    "                [0, 4, 8], [2, 4, 6]]\n",
    "        isXWon = any([all([wi in whereX for wi in w]) for w in wins])\n",
    "        isOWon = any([all([wi in whereO for wi in w]) for w in wins])\n",
    "        if isXWon:\n",
    "            return 1 if self.playerLookAHead is 'X' else -1\n",
    "        elif isOWon:\n",
    "            return 1 if self.playerLookAHead is 'O' else -1\n",
    "        elif ' ' not in self.board:\n",
    "            return 0\n",
    "        else:\n",
    "            return None  ########################################################## CHANGED FROM -0.1\n",
    "\n",
    "    def isOver(self):\n",
    "        return self.getUtility() is not None\n",
    "\n",
    "    def makeMove(self, move):\n",
    "        self.movesExplored += 1\n",
    "        self.board[move] = self.playerLookAHead\n",
    "        self.playerLookAHead = 'X' if self.playerLookAHead == 'O' else 'O'\n",
    "\n",
    "    def changePlayer(self):\n",
    "        self.player = 'X' if self.player == 'O' else 'O'\n",
    "        self.playerLookAHead = self.player\n",
    "\n",
    "    def unmakeMove(self, move):\n",
    "        self.board[move] = ' '\n",
    "        self.playerLookAHead = 'X' if self.playerLookAHead == 'O' else 'O'\n",
    "\n",
    "    def __str__(self):\n",
    "        s = '{}|{}|{}\\n-----\\n{}|{}|{}\\n-----\\n{}|{}|{}'.format(*self.board)\n",
    "        return s\n",
    "    def getNumberMovesExplored(self):\n",
    "        return self.movesExplored\n",
    "    def getWinningValue(self):\n",
    "        return 1"
   ]
  },
  {
   "cell_type": "markdown",
   "metadata": {},
   "source": [
    "Check that the following function `playGame` runs\n",
    "correctly. Notice that we are using *negamax* to find the best move for\n",
    "Player X, but Player O, the opponent, is using function *opponent*\n",
    "that follows the silly strategy of playing in the first open position."
   ]
  },
  {
   "cell_type": "code",
   "execution_count": 49,
   "metadata": {
    "collapsed": true
   },
   "outputs": [],
   "source": [
    "def opponent(board):\n",
    "    return board.index(' ')\n",
    "\n",
    "def playGame(game,opponent,depthLimit):\n",
    "    print(game)\n",
    "    while not game.isOver():\n",
    "        score,move = negamax(game,depthLimit)\n",
    "        if move == None :\n",
    "            print('move is None. Stopping.')\n",
    "            break\n",
    "        game.makeMove(move)\n",
    "        print('Player', game.player, 'to', move, 'for score' ,score)\n",
    "        print(game)\n",
    "        if not game.isOver():\n",
    "            game.changePlayer()\n",
    "            opponentMove = opponent(game.board)\n",
    "            game.makeMove(opponentMove)\n",
    "            print('Player', game.player, 'to', opponentMove)   ### FIXED ERROR IN THIS LINE!\n",
    "            print(game)\n",
    "            game.changePlayer()\n",
    "    print('Number of moves explored', game.getNumberMovesExplored())"
   ]
  },
  {
   "cell_type": "code",
   "execution_count": 52,
   "metadata": {
    "scrolled": true
   },
   "outputs": [
    {
     "name": "stdout",
     "output_type": "stream",
     "text": [
      " | | \n",
      "-----\n",
      " | | \n",
      "-----\n",
      " | | \n",
      "Player X to 0 for score 0\n",
      "X| | \n",
      "-----\n",
      " | | \n",
      "-----\n",
      " | | \n",
      "Player O to 1\n",
      "X|O| \n",
      "-----\n",
      " | | \n",
      "-----\n",
      " | | \n",
      "Player X to 3 for score 1\n",
      "X|O| \n",
      "-----\n",
      "X| | \n",
      "-----\n",
      " | | \n",
      "Player O to 2\n",
      "X|O|O\n",
      "-----\n",
      "X| | \n",
      "-----\n",
      " | | \n",
      "Player X to 4 for score 1\n",
      "X|O|O\n",
      "-----\n",
      "X|X| \n",
      "-----\n",
      " | | \n",
      "Player O to 5\n",
      "X|O|O\n",
      "-----\n",
      "X|X|O\n",
      "-----\n",
      " | | \n",
      "Player X to 6 for score 1\n",
      "X|O|O\n",
      "-----\n",
      "X|X|O\n",
      "-----\n",
      "X| | \n",
      "Number of moves explored 558334\n"
     ]
    }
   ],
   "source": [
    "game = TTT()\n",
    "playGame(game,opponent,20)"
   ]
  },
  {
   "cell_type": "markdown",
   "metadata": {},
   "source": [
    "## Add moves counter"
   ]
  },
  {
   "cell_type": "markdown",
   "metadata": {},
   "source": [
    "Evaluate the efficiency of the search by keepting track of the number of nodes explored, which is the same as the number of moves explored, during a game. Do this by adding a counter named `movesExplored` to the `TTT` constructor where it is initialized to 0 and increment the counter in the `TTT.makeMove` method.  Add a method `ttt.getNumberMovesExplored()` to get its current value.  So\n",
    "\n",
    "    print('Number of moves explored', game.getMovesExplored())\n",
    "    \n",
    "will print the number of moves explored. You will not use a global variable for counting this time."
   ]
  },
  {
   "cell_type": "markdown",
   "metadata": {},
   "source": [
    "## negamaxIDS "
   ]
  },
  {
   "cell_type": "markdown",
   "metadata": {},
   "source": [
    "<font color='red'>UPDATED Oct 4</font>\n",
    "\n",
    "Write a new function named `negamaxIDS` that performs an iterative deepening negamax search.  Replace the first line in the `while` loop of `playGame` with\n",
    "\n",
    "        score,move = negamaxIDS(game,depthLimit)\n",
    "        \n",
    "where `depthLimit` is now the maximum depth and multiple `negamax` searches are performed for depth limits of $1, 2, \\ldots,$ maximum depth.\n",
    "\n",
    "But, when should you stop?  Can you stop before readhing the depthLimit?  If not, there is no point to doing iterative deepening.\n",
    "\n",
    "For Tic-Tac-Toe, we can stop as soon as a call to `negamax` returns a winning move.  This will have a value of 1 for Tic-Tac-Toe.  To keep our `negamaxIDS` function general, add a method called `getWinningValue` to the `TTT` class that just returns 1.  Then `negamaxIDS` can call `game.getWinningValue()` to determine the value of a winning move for this game.  If the maximum depth is reached and no winning move has been found, return the best move found over all depth limts."
   ]
  },
  {
   "cell_type": "code",
   "execution_count": 9,
   "metadata": {
    "collapsed": true
   },
   "outputs": [],
   "source": [
    "def negamaxIDS(game, maxDepth):\n",
    "    for depth in range(maxDepth + 1):\n",
    "        # CALLING negamax FOR EACH DEPTH VALUE\n",
    "        result, move = negamax(game, depth)\n",
    "        winVal = game.getWinningValue()\n",
    "        if result == winVal:\n",
    "            break\n",
    "    return result, move"
   ]
  },
  {
   "cell_type": "code",
   "execution_count": 10,
   "metadata": {},
   "outputs": [
    {
     "data": {
      "text/plain": [
       "(1, 0)"
      ]
     },
     "execution_count": 10,
     "metadata": {},
     "output_type": "execute_result"
    }
   ],
   "source": [
    "game = TTT()\n",
    "negamaxIDS(game,5)"
   ]
  },
  {
   "cell_type": "markdown",
   "metadata": {},
   "source": [
    "Now for the hardest part.  Make a new function `negamaxIDSab` by duplicating `negamaxIDS` and add the code to implement alpha-beta pruning."
   ]
  },
  {
   "cell_type": "markdown",
   "metadata": {},
   "source": [
    "## negamaxab - negamax with alpha beta pruning"
   ]
  },
  {
   "cell_type": "code",
   "execution_count": 11,
   "metadata": {
    "collapsed": true
   },
   "outputs": [],
   "source": [
    "def negamaxab(game, depthLeft, alpha = -float('inf'), beta = float('inf')):\n",
    "    # If at terminal state or depth limit, return utility value and move None\n",
    "    if game.isOver() or depthLeft == 0:\n",
    "        return game.getUtility(), None\n",
    "\n",
    "    # Find best move and its value from current state\n",
    "    bestValue, bestMove = None, None\n",
    "    for move in game.getMoves():\n",
    "        # Apply a move to current state\n",
    "        game.makeMove(move)\n",
    "        # Use depth-first search to find eventual utility value and back it up.\n",
    "        #  Negate it because it will come back in context of next player\n",
    "        value, _ = negamaxab(game, depthLeft-1, -beta, -alpha)\n",
    "        # Remove the move from current state, to prepare for trying a different move\n",
    "        game.unmakeMove(move)\n",
    "        if value is None:\n",
    "            continue\n",
    "        value = - value\n",
    "        if bestValue is None or value > bestValue:\n",
    "            # Value for this move is better than moves tried so far from this state.\n",
    "            bestValue, bestMove = value, move\n",
    "        alpha = max(bestValue, alpha)\n",
    "        if bestValue >= beta:\n",
    "            return bestValue, bestMove\n",
    "    return bestValue, bestMove\n",
    "\n",
    "\n",
    "\n",
    "def negamaxIDSab(game, maxDepth):\n",
    "    for depth in range(maxDepth + 1):\n",
    "        #print(\"We're at depth: \", depth)\n",
    "        # CALLING negamax FOR EACH DEPTH VALUE\n",
    "        result, move = negamaxab(game, depth)\n",
    "        winVal = game.getWinningValue()\n",
    "        if result == winVal:\n",
    "            return result, move\n",
    "    return result, move"
   ]
  },
  {
   "cell_type": "markdown",
   "metadata": {},
   "source": [
    "## EBF"
   ]
  },
  {
   "cell_type": "markdown",
   "metadata": {
    "collapsed": true
   },
   "source": [
    "def ebf(nNodes, depth, precision=0.01):\n",
    "    if nNodes == 0:\n",
    "        return 0\n",
    "    \n",
    "    def ebfRec(low, high):\n",
    "        mid = (low + high) * 0.5\n",
    "        if mid == 1:\n",
    "            estimate = 1 + depth\n",
    "        else:\n",
    "            estimate = (1 - mid**(depth + 1)) / (1 - mid)\n",
    "        if abs(estimate - nNodes) < precision:\n",
    "            return mid\n",
    "        if estimate > nNodes:\n",
    "            return ebfRec(low, mid)\n",
    "        else:\n",
    "            return ebfRec(mid, high)\n",
    "\n",
    "    return ebfRec(1, nNodes)"
   ]
  },
  {
   "cell_type": "code",
   "execution_count": 12,
   "metadata": {
    "collapsed": true
   },
   "outputs": [],
   "source": [
    "# This function computes the Effective Branching Factor (EBF) for a tree with 'nNodes' nodes and depth 'depth'. \n",
    "# We use Binary Search to compute the EBF.\n",
    "\n",
    "def ebf(nNodes, depth, precision = 0.01):\n",
    "    \n",
    "    # Initialize low and high values.\n",
    "    left = 1\n",
    "    right = nNodes\n",
    "    \n",
    "    # If no nodes in tree return 0\n",
    "    if nNodes == 0:\n",
    "        return 0\n",
    "    \n",
    "    # Keep iterating till the difference between left and right is lesser than the specified precision.\n",
    "    b = 1.0\n",
    "    while(True):\n",
    "        \n",
    "        # If the difference is lesser than the precision, then break out.\n",
    "        if abs(right - left) <= precision:\n",
    "            break\n",
    "            \n",
    "        # Get the middle value\n",
    "        b = (left + right)/2\n",
    "        \n",
    "        # Solve equation to find n\n",
    "        n = (pow(b, (depth+1)) - 1)/(b - 1)\n",
    "        if nNodes < n:\n",
    "            right = b - precision\n",
    "        elif nNodes > n:\n",
    "            left = b + precision\n",
    "        else:\n",
    "            return b\n",
    "    return b    "
   ]
  },
  {
   "cell_type": "markdown",
   "metadata": {},
   "source": [
    "## playGames\n",
    "\n",
    "Now duplicate the game playing loop so three complete tic-tac-toe games are played.  Call this new version `playGames`. For the first game, use `negamax`. For the second game, use `negamaxIDS`.  For the third game, use `negamaxIDSab`.  At the end of each game, print the number of X's in the final board, the number moves explored, the depth of the game which is the number of moves made by X and O, and the effective branching factor.  When you run `playGames` you should see the tic-tac-toe positions after each move and, after all games are done, a line for each game like the following lines, which were <font color='red'>UPDATED Oct 5</font>.\n",
    "\n",
    "    negamax made 4 moves. 558334 moves explored for ebf(558334, 7) of 6.46\n",
    "    negamaxIDS made 3 moves. 744695 moves explored for ebf(744695, 5) of 14.73\n",
    "    negamaxIDSab made 3 moves 20804 moves explored for ebf(20804, 5) of 7.09\n",
    "\n",
    "Your results may be different. \n",
    "\n",
    "The value of the depth is the total number of moves made by X and by O during the search.  You can calculate this by keeping a list of all board states, or by just counting the number of X's and O's in the final board."
   ]
  },
  {
   "cell_type": "markdown",
   "metadata": {},
   "source": [
    "Here are some example results. <font color='red'>Updated October 6, 3:15pm </font>"
   ]
  },
  {
   "cell_type": "code",
   "execution_count": 67,
   "metadata": {
    "collapsed": true
   },
   "outputs": [],
   "source": [
    "def playGames(opponent,depthLimit, funlist):\n",
    "    # Create an empty list to maintain a list of strings which are to be printed at the ned.\n",
    "    strlst = []\n",
    "    # Create a list to store scores\n",
    "    scores = []\n",
    "    for fun in funlist:\n",
    "        print()\n",
    "        print(fun.__name__, ':')\n",
    "        game = TTT()\n",
    "        print(game)\n",
    "        while not game.isOver():\n",
    "            score,move = fun(game,depthLimit)\n",
    "            if move == None :\n",
    "                print('move is None. Stopping.')\n",
    "                break\n",
    "            game.makeMove(move)\n",
    "            print('Player', game.player, 'to', move, 'for score' ,score)\n",
    "            print(game)\n",
    "            if not game.isOver():\n",
    "                game.changePlayer()\n",
    "                opponentMove = opponent(game.board)\n",
    "                #print(opponentMove)\n",
    "                game.makeMove(opponentMove)\n",
    "                print('Player', game.player, 'to', opponentMove)   ### FIXED ERROR IN THIS LINE!\n",
    "                print(game)\n",
    "                game.changePlayer()\n",
    "        # Get depth\n",
    "        xl = len(game.locations('X'))\n",
    "        ol = len(game.locations('O'))\n",
    "        dep =  xl + ol\n",
    "        strlst.append(fun.__name__ + ' made ' + str(len(game.locations('X'))) + ' moves. ' + str(game.getNumberMovesExplored()) + ' moves explored for ebf(' + str(game.getNumberMovesExplored()) + ', ' + str(dep) + ') of ' + str(round(ebf(game.getNumberMovesExplored(), dep), 2)))\n",
    "        scores.append(score)\n",
    "    for s in strlst:\n",
    "        print(s)\n",
    "    return scores"
   ]
  },
  {
   "cell_type": "code",
   "execution_count": 69,
   "metadata": {},
   "outputs": [
    {
     "name": "stdout",
     "output_type": "stream",
     "text": [
      "\n",
      "negamaxIDSab :\n",
      " | | \n",
      "-----\n",
      " | | \n",
      "-----\n",
      " | | \n",
      "Player X to 0 for score 1\n",
      "X| | \n",
      "-----\n",
      " | | \n",
      "-----\n",
      " | | \n",
      "Player O to 1\n",
      "X|O| \n",
      "-----\n",
      " | | \n",
      "-----\n",
      " | | \n",
      "Player X to 3 for score 1\n",
      "X|O| \n",
      "-----\n",
      "X| | \n",
      "-----\n",
      " | | \n",
      "Player O to 2\n",
      "X|O|O\n",
      "-----\n",
      "X| | \n",
      "-----\n",
      " | | \n",
      "Player X to 6 for score 1\n",
      "X|O|O\n",
      "-----\n",
      "X| | \n",
      "-----\n",
      "X| | \n",
      "negamaxIDSab made 3 moves. 6053 moves explored for ebf(6053, 5) of 5.49\n"
     ]
    },
    {
     "data": {
      "text/plain": [
       "[1]"
      ]
     },
     "execution_count": 69,
     "metadata": {},
     "output_type": "execute_result"
    }
   ],
   "source": [
    "playGames(opponent, 10, [negamaxIDSab])"
   ]
  },
  {
   "cell_type": "markdown",
   "metadata": {},
   "source": [
    "## Grading"
   ]
  },
  {
   "cell_type": "markdown",
   "metadata": {},
   "source": [
    "As always, download and extract from [A4grader.tar](http://www.cs.colostate.edu/~anderson/cs440/notebooks/A4grader.tar)"
   ]
  },
  {
   "cell_type": "code",
   "execution_count": null,
   "metadata": {
    "collapsed": true
   },
   "outputs": [],
   "source": [
    "# %load A4mysolution.py"
   ]
  },
  {
   "cell_type": "code",
   "execution_count": 172,
   "metadata": {
    "scrolled": true
   },
   "outputs": [
    {
     "name": "stdout",
     "output_type": "stream",
     "text": [
      "\n",
      "Testing negamax starting from ['O', 'X', ' ', 'O', ' ', ' ', ' ', 'X', ' ']\n",
      "\n",
      "--- 10/10 points. negamax correctly returns value of 1\n",
      "\n",
      "--- 10/10 points. negamax correctly explored 124 states.\n",
      "\n",
      "Testing negamax starting from ['O', 'X', 'X', 'O', 'O', ' ', ' ', 'X', ' ']\n",
      "\n",
      "--- 10/10 points. negamax correctly returns value of -1 and move of 5\n",
      "\n",
      "Testing negamaxIDS with max depth of 5, starting from ['O', 'X', 'X', 'O', 'O', ' ', ' ', 'X', ' ']\n",
      "\n",
      "--- 10/10 points. negamaxIDS correctly returns value of -1 and move of 5\n",
      "\n",
      "Testing negamaxIDSab starting from ['O', 'X', 'X', 'O', 'O', ' ', ' ', 'X', ' ']\n",
      "\n",
      "--- 20/20 points. negamaxIDSab correctly returns value of -1 and move of 5\n",
      "\n",
      "Testing playGame with opponent that always plays in highest numbered position.\n",
      " | | \n",
      "-----\n",
      " | | \n",
      "-----\n",
      " | | \n",
      "Player X to 0 for score 0\n",
      "X| | \n",
      "-----\n",
      " | | \n",
      "-----\n",
      " | | \n",
      "Player O to 8\n",
      "X| | \n",
      "-----\n",
      " | | \n",
      "-----\n",
      " | |O\n",
      "Player X to 2 for score 1\n",
      "X| |X\n",
      "-----\n",
      " | | \n",
      "-----\n",
      " | |O\n",
      "Player O to 7\n",
      "X| |X\n",
      "-----\n",
      " | | \n",
      "-----\n",
      " |O|O\n",
      "Player X to 1 for score 1\n",
      "X|X|X\n",
      "-----\n",
      " | | \n",
      "-----\n",
      " |O|O\n",
      "\n",
      "--- 10/10 points. playGame correctly wins by filling top row with Xs.\n",
      "\n",
      "C:\\Users\\Vignesh\\Documents\\Colorado State University\\Courses\\CS440 - Introduction to Artificial Intelligence - Chuck Anderson\\Assignments Execution Grade is 70/70\n",
      "\n",
      " Remaining 30 points will be based on the output of your playGames function.\n",
      "\n",
      "C:\\Users\\Vignesh\\Documents\\Colorado State University\\Courses\\CS440 - Introduction to Artificial Intelligence - Chuck Anderson\\Assignments FINAL GRADE is __/100\n"
     ]
    }
   ],
   "source": [
    "%run -i A4grader.py"
   ]
  },
  {
   "cell_type": "markdown",
   "metadata": {},
   "source": [
    "## Extra Credit"
   ]
  },
  {
   "cell_type": "markdown",
   "metadata": {},
   "source": [
    "Earn one extra credit point for each of the following.\n",
    "\n",
    "  - Implement another game and repeat the above steps.\n",
    "\n",
    "  - Implement a random move chooser as the opponent (Player O) and determine how many times Player X can win against this opponent as an average over multiple games."
   ]
  },
  {
   "cell_type": "code",
   "execution_count": 91,
   "metadata": {
    "collapsed": true
   },
   "outputs": [],
   "source": [
    "class New(object):\n",
    "    def __init__(self):\n",
    "        self.movesExplored = 0\n",
    "        self.board = 0\n",
    "        self.player = 'A'\n",
    "        self.playerLookAHead = self.player\n",
    "        self.acount = 0\n",
    "        self.bcount = 0 \n",
    "\n",
    "    def getMoves(self):\n",
    "        moves = range(1,10)\n",
    "        moves = list(moves)\n",
    "        for i in moves:\n",
    "            n = self.board + i\n",
    "            if n > 50:\n",
    "                moves.remove(i)\n",
    "        return moves\n",
    "\n",
    "    def getUtility(self):\n",
    "        if self.board == 50:\n",
    "            # A wins\n",
    "            if self.playerLookAHead == 'A':\n",
    "                return 1\n",
    "            # B wins\n",
    "            else:\n",
    "                return -1\n",
    "        else:\n",
    "            return None \n",
    "\n",
    "    def isOver(self):\n",
    "        return self.getUtility() is not None\n",
    "\n",
    "    # 'move' is a number between 0 and 9\n",
    "    def makeMove(self, move):\n",
    "        self.movesExplored += 1\n",
    "        self.board += move\n",
    "        \n",
    "        self.playerLookAHead = 'A' if self.playerLookAHead == 'B' else 'B'\n",
    "\n",
    "    def changePlayer(self):\n",
    "        self.player = 'A' if self.player == 'B' else 'B'\n",
    "        self.playerLookAHead = self.player\n",
    "\n",
    "    def unmakeMove(self, move):\n",
    "        self.board -= move\n",
    "        self.playerLookAHead = 'A' if self.playerLookAHead == 'B' else 'B'\n",
    "\n",
    "    def __str__(self):\n",
    "        return str(self.board)\n",
    "    def getNumberMovesExplored(self):\n",
    "        return self.movesExplored\n",
    "    def getWinningValue(self):\n",
    "        return 1\n",
    "\n",
    "    def incCount(self):\n",
    "        if self.playerLookAHead == 'A':\n",
    "            self.acount += 1\n",
    "        else:\n",
    "            self.bcount += 1"
   ]
  },
  {
   "cell_type": "code",
   "execution_count": 92,
   "metadata": {
    "collapsed": true
   },
   "outputs": [],
   "source": [
    "def playGames2(opponent, depthLimit, funlist):\n",
    "    # Create an empty list to maintain a list of strings which are to be printed at the ned.\n",
    "    strlst = []\n",
    "    for fun in funlist:\n",
    "        print()\n",
    "        print(fun.__name__, ':')\n",
    "        game = New()\n",
    "        print(game)\n",
    "        while not game.isOver():\n",
    "            score,move = fun(game,depthLimit)\n",
    "            if move == None :\n",
    "                print('move is None. Stopping.')\n",
    "                break\n",
    "            game.incCount()\n",
    "            game.makeMove(move)\n",
    "            print('Player', game.player, 'to', move, 'for score' ,score)\n",
    "            print(game)\n",
    "            if not game.isOver():\n",
    "                game.changePlayer()\n",
    "                opponentMove = opponent(game.board)\n",
    "                #print(opponentMove)\n",
    "                game.makeMove(opponentMove)\n",
    "                print('Player', game.player, 'to', opponentMove)   ### FIXED ERROR IN THIS LINE!\n",
    "                print(game)\n",
    "                game.changePlayer()\n",
    "        # Get depth\n",
    "        dep =  game.acount + game.bcount\n",
    "        strlst.append(fun.__name__ + ' made ' + str(game.acount) + ' moves. ' + str(game.getNumberMovesExplored()) + ' moves explored for ebf(' + str(game.getNumberMovesExplored()) + ', ' + str(dep) + ') of ' + str(round(ebf(game.getNumberMovesExplored(), dep), 2)))\n",
    "    for s in strlst:\n",
    "        print(s)"
   ]
  },
  {
   "cell_type": "code",
   "execution_count": 93,
   "metadata": {
    "collapsed": true
   },
   "outputs": [],
   "source": [
    "import random as rd\n",
    "def opponent2(board):\n",
    "    diff = 50 - board\n",
    "    if diff <= 8:\n",
    "        r = rd.randint(1,diff)\n",
    "    else:\n",
    "        r = rd.randint(1, 9)\n",
    "    return r"
   ]
  },
  {
   "cell_type": "code",
   "execution_count": 94,
   "metadata": {
    "scrolled": false
   },
   "outputs": [
    {
     "name": "stdout",
     "output_type": "stream",
     "text": [
      "\n",
      "negamaxIDSab :\n",
      "0\n",
      "Player A to 5 for score 1\n",
      "5\n",
      "Player B to 7\n",
      "12\n",
      "Player A to 2 for score 1\n",
      "14\n",
      "Player B to 7\n",
      "21\n",
      "Player A to 2 for score 1\n",
      "23\n",
      "Player B to 1\n",
      "24\n",
      "Player A to 8 for score 1\n",
      "32\n",
      "Player B to 3\n",
      "35\n",
      "Player A to 6 for score 1\n",
      "41\n",
      "Player B to 3\n",
      "44\n",
      "Player A to 6 for score 1\n",
      "50\n",
      "negamaxIDSab made 6 moves. 657323 moves explored for ebf(657323, 6) of 9.16\n"
     ]
    }
   ],
   "source": [
    "playGames2(opponent2, 6, [negamaxIDSab])"
   ]
  },
  {
   "cell_type": "markdown",
   "metadata": {
    "collapsed": true
   },
   "source": [
    "## Random move chooser for TTT"
   ]
  },
  {
   "cell_type": "code",
   "execution_count": 34,
   "metadata": {
    "collapsed": true
   },
   "outputs": [],
   "source": [
    "def opponent3(board):\n",
    "    moves = [i for i, mark in enumerate(board) if mark == ' ']\n",
    "    # Random integer\n",
    "    r = rd.randint(0, len(moves)-1)\n",
    "    return moves[r]"
   ]
  },
  {
   "cell_type": "code",
   "execution_count": 66,
   "metadata": {
    "scrolled": true
   },
   "outputs": [
    {
     "name": "stdout",
     "output_type": "stream",
     "text": [
      "\n",
      "negamaxIDSab :\n",
      " | | \n",
      "-----\n",
      " | | \n",
      "-----\n",
      " | | \n",
      "Player X to 0 for score 1\n",
      "X| | \n",
      "-----\n",
      " | | \n",
      "-----\n",
      " | | \n",
      "Player O to 5\n",
      "X| | \n",
      "-----\n",
      " | |O\n",
      "-----\n",
      " | | \n",
      "Player X to 1 for score 1\n",
      "X|X| \n",
      "-----\n",
      " | |O\n",
      "-----\n",
      " | | \n",
      "Player O to 7\n",
      "X|X| \n",
      "-----\n",
      " | |O\n",
      "-----\n",
      " |O| \n",
      "Player X to 2 for score 1\n",
      "X|X|X\n",
      "-----\n",
      " | |O\n",
      "-----\n",
      " |O| \n",
      "negamaxIDSab made 3 moves. 5989 moves explored for ebf(5989, 5) of 5.49\n"
     ]
    }
   ],
   "source": [
    "playGames(opponent3, 10, [negamaxIDSab])"
   ]
  },
  {
   "cell_type": "markdown",
   "metadata": {},
   "source": [
    "## Playing many times with this 'random' opponent"
   ]
  },
  {
   "cell_type": "code",
   "execution_count": 89,
   "metadata": {
    "collapsed": true
   },
   "outputs": [],
   "source": [
    "def newfunc(opponent, depthLimit, funlist, n):\n",
    "    for fun in funlist:\n",
    "        print()\n",
    "        print('Now we trying out function: ', fun.__name__)\n",
    "        scorelist = []\n",
    "        for i in range(n):\n",
    "            #print(i)\n",
    "            game = TTT()\n",
    "            while not game.isOver():\n",
    "                score,move = fun(game,depthLimit)\n",
    "                if move == None :\n",
    "                    print('Insufficient depth specified. Stopping game!')\n",
    "                    break\n",
    "                game.makeMove(move)\n",
    "                if not game.isOver():\n",
    "                    game.changePlayer()\n",
    "                    opponentMove = opponent(game.board)\n",
    "                    game.makeMove(opponentMove)\n",
    "                    game.changePlayer()\n",
    "            scorelist.append(score)\n",
    "            #if score != 1:\n",
    "                #print('sadsad')\n",
    "                #break\n",
    "        average = (scorelist.count(1)/len(scorelist)) * 100\n",
    "        print('In', n, ' games, player X has won', average, \"% of the times against player Y.\" )\n"
   ]
  },
  {
   "cell_type": "code",
   "execution_count": 90,
   "metadata": {},
   "outputs": [
    {
     "name": "stdout",
     "output_type": "stream",
     "text": [
      "\n",
      "Now we trying out function:  negamaxIDSab\n",
      "In 50  games, player X has won 96.0 % of the times against player Y.\n"
     ]
    }
   ],
   "source": [
    "newfunc(opponent3, 10, [negamaxIDSab], 50)"
   ]
  },
  {
   "cell_type": "code",
   "execution_count": null,
   "metadata": {
    "collapsed": true
   },
   "outputs": [],
   "source": []
  }
 ],
 "metadata": {
  "kernelspec": {
   "display_name": "Python 3",
   "language": "python",
   "name": "python3"
  },
  "language_info": {
   "codemirror_mode": {
    "name": "ipython",
    "version": 3
   },
   "file_extension": ".py",
   "mimetype": "text/x-python",
   "name": "python",
   "nbconvert_exporter": "python",
   "pygments_lexer": "ipython3",
   "version": "3.6.0"
  }
 },
 "nbformat": 4,
 "nbformat_minor": 2
}
