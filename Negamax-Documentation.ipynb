{
 "cells": [
  {
   "cell_type": "markdown",
   "metadata": {},
   "source": [
    "# Assignment 4: Negamax with Alpha-Beta Pruning and Iterative Deepening"
   ]
  },
  {
   "cell_type": "markdown",
   "metadata": {},
   "source": [
    "## Vignesh Madharapakkam Pagadala"
   ]
  },
  {
   "cell_type": "markdown",
   "metadata": {},
   "source": [
    "## Summary\n",
    "In this Notebook, we implement the following algorithms:\n",
    "1. Negamax\n",
    "2. Negamax with Iterative-Deepening\n",
    "3. Negamax with Iterative-Deepening and Alpha-Beta Pruning\n",
    "\n",
    "We create a class for a Tic-Tac-Toe game, and try out these methodologies with different Tic-Tac-Toe games. Additionally, we build a function using which we compare and analyze the results.\n",
    "\n",
    "We also implement another game to try the algorithms on, and synthesize a new opponent for playing Tic-Tac-Toe with."
   ]
  },
  {
   "cell_type": "markdown",
   "metadata": {},
   "source": [
    "# Table of Contents\n",
    "* [Assignment 4: Negamax with Alpha-Beta Pruning and Iterative Deepening](#Assignment-4:-Negamax-with-Alpha-Beta-Pruning-and-Iterative-Deepening) \n",
    "\t* [Functions Implemented](#I.-Functions-Implemented) <br><br>\n",
    "\t* [Negamax](#II.-Negamax)\n",
    "        * [Overview](#II.a.-Overview)\n",
    "        * [Algorithm Definition](#II.b.-Algorithm-Definition)\n",
    "        * [Implementation](#II.c.-Implementation)\n",
    "        * [Applying Negamax to play Tic-Tac-Toe](#II.d.-Applying-Negamax-to-play-Tic-Tac-Toe)\n",
    "        <br><br>\n",
    "\t* [Negamax with Iterative Deepening](#III.-Negamax-with-Iterative-Deepening)\n",
    "\t* [Negamax with Iterative Deepening and Alpha-Beta Pruning](#IV.-Negamax-with-Iterative-Deepening-and-Alpha-Beta-Pruning)<br><br>\n",
    "\t* [Comparision](#V.-Comparision)\n",
    "        * [Function to calculate the Effective Branching Factor](#V.a.-Function-to-calculate-the-Effective-Branching-Factor)\n",
    "        * [Function to print results in a comparable manner](#V.b.-Function-to-print-results-in-a-comparable-manner) <br><br>\n",
    "    * [Extra Credit Problems](#VI.-Extra-Credit-Problems)\n",
    "        * [A New Game - Adding to Fifty Apples](#VI.a.-A-New-Game:-Adding-to-Fifty-Apples)\n",
    "            * [Game Description](#i.-Game-Description)\n",
    "            * [Implementation of Game Class](#ii.-Implementation-of-Game-Class)\n",
    "            * [Opponent Definition](#iii.-Opponent-Definition)\n",
    "            * [Function to play the game](#iv.-Function-to-play-the-game) <br><br>\n",
    "        * [Random Move-Choosing Opponent](#VI.b.-Random-Move-Choosing-Opponent)\n",
    "            * [Implementation of Opponent](#i.-Implementation-of-Opponent)\n",
    "            * [Win Rate of Player X against this opponent ](#ii.-Win-Rate-of-Player-X-against-this-opponent)"
   ]
  },
  {
   "cell_type": "markdown",
   "metadata": {},
   "source": [
    "## I. Functions Implemented in this Notebook\n",
    "* [negamax](#negamax)\n",
    "* [playGame](#playGame)\n",
    "* [opponent](#opponent)\n",
    "* [negamaxIDS](#negamaxIDS)\n",
    "* [negamaxab](#negamaxab)\n",
    "* [negamaxIDSab](#negamaxIDSab)\n",
    "* [ebf](#ebf)\n",
    "* [playGames](#playGames)\n",
    "* [playGames2](#playGames2)\n",
    "* [opponent2](#opponent2)\n",
    "* [opponent3](#opponent3)\n",
    "* [winRate](#winRate)"
   ]
  },
  {
   "cell_type": "markdown",
   "metadata": {},
   "source": [
    "## II. Negamax\n",
    "### II.a. Overview\n",
    "Negamax is basically a variant of Minimax search with some alterations made, such that the maximum child node is always chosen at each player's play, unlike in Minimax where the maximizer and minimizer nodes alternatively select the maximum and minimum child node respectively. In Negamax, we bank on the zero-sum property of a two-player game (i.e., the reward/punishment for each player at the end of a game is equal and opposite). Therefore, it becomes clear that the use of Negamax is restricted to those turn-based, two-player games which satisfy the zero-sum property. Since max(a,b) = -min(-a, -b), we perform only maximization at each player's turn if we negate the value returned, and the utility values are also negated between alternating players."
   ]
  },
  {
   "cell_type": "markdown",
   "metadata": {},
   "source": [
    "### II.b. Algorithm Definition\n",
    "#### Source: Breuker, Dennis M. Memory versus Search in Games, Maastricht University, October 16, 1998"
   ]
  },
  {
   "cell_type": "raw",
   "metadata": {},
   "source": [
    "function negamax(node, depth, color)\n",
    "     if depth = 0 or node is a terminal node\n",
    "         return color * the heuristic value of node\n",
    "\n",
    "     bestValue := −∞\n",
    "     foreach child of node\n",
    "         v := −negamax(child, depth − 1, −color)\n",
    "         bestValue := max( bestValue, v )\n",
    "     return bestValue\n",
    "     "
   ]
  },
  {
   "cell_type": "markdown",
   "metadata": {},
   "source": [
    "### II.c. Implementation"
   ]
  },
  {
   "cell_type": "markdown",
   "metadata": {},
   "source": [
    "#### negamax"
   ]
  },
  {
   "cell_type": "code",
   "execution_count": 9,
   "metadata": {
    "collapsed": true
   },
   "outputs": [],
   "source": [
    "def negamax(game, depthLeft):\n",
    "    # If at terminal state or depth limit, return utility value and move None\n",
    "    if game.isOver() or depthLeft == 0:\n",
    "        return game.getUtility(), None\n",
    "    # Find best move and its value from current state\n",
    "    bestValue, bestMove = None, None\n",
    "    for move in game.getMoves():\n",
    "        # Apply a move to current state\n",
    "        game.makeMove(move)\n",
    "        # Use depth-first search to find eventual utility value and back it up.\n",
    "        #  Negate it because it will come back in context of next player\n",
    "        value, _ = negamax(game, depthLeft-1)\n",
    "        # Remove the move from current state, to prepare for trying a different move\n",
    "        game.unmakeMove(move)\n",
    "        if value is None:\n",
    "            continue\n",
    "        value = - value\n",
    "        if bestValue is None or value > bestValue:\n",
    "            # Value for this move is better than moves tried so far from this state.\n",
    "            bestValue, bestMove = value, move\n",
    "    return bestValue, bestMove"
   ]
  },
  {
   "cell_type": "markdown",
   "metadata": {},
   "source": [
    "### II.d. Applying Negamax to play Tic-Tac-Toe\n",
    "For playing Tic-Tac-Toe using Negamax, we create the following class, which defines various functions specific for Tic-Tac-Toe."
   ]
  },
  {
   "cell_type": "markdown",
   "metadata": {},
   "source": [
    "#### Class TTT "
   ]
  },
  {
   "cell_type": "code",
   "execution_count": 10,
   "metadata": {
    "collapsed": true
   },
   "outputs": [],
   "source": [
    "class TTT(object):\n",
    "    def __init__(self):\n",
    "        self.movesExplored = 0\n",
    "        self.board = [' ']*9\n",
    "        self.player = 'X'\n",
    "        self.playerLookAHead = self.player\n",
    "    def locations(self, c):\n",
    "        return [i for i, mark in enumerate(self.board) if mark == c]\n",
    "    def getMoves(self):\n",
    "        moves = self.locations(' ')\n",
    "        return moves\n",
    "    def getUtility(self):\n",
    "        whereX = self.locations('X')\n",
    "        whereO = self.locations('O')\n",
    "        wins = [[0, 1, 2], [3, 4, 5], [6, 7, 8],\n",
    "                [0, 3, 6], [1, 4, 7], [2, 5, 8],\n",
    "                [0, 4, 8], [2, 4, 6]]\n",
    "        isXWon = any([all([wi in whereX for wi in w]) for w in wins])\n",
    "        isOWon = any([all([wi in whereO for wi in w]) for w in wins])\n",
    "        if isXWon:\n",
    "            return 1 if self.playerLookAHead is 'X' else -1\n",
    "        elif isOWon:\n",
    "            return 1 if self.playerLookAHead is 'O' else -1\n",
    "        elif ' ' not in self.board:\n",
    "            return 0\n",
    "        else:\n",
    "            return None \n",
    "    def isOver(self):\n",
    "        return self.getUtility() is not None\n",
    "    def makeMove(self, move):\n",
    "        self.movesExplored += 1\n",
    "        self.board[move] = self.playerLookAHead\n",
    "        self.playerLookAHead = 'X' if self.playerLookAHead == 'O' else 'O'\n",
    "    def changePlayer(self):\n",
    "        self.player = 'X' if self.player == 'O' else 'O'\n",
    "        self.playerLookAHead = self.player\n",
    "    def unmakeMove(self, move):\n",
    "        self.board[move] = ' '\n",
    "        self.playerLookAHead = 'X' if self.playerLookAHead == 'O' else 'O'\n",
    "    def __str__(self):\n",
    "        s = '{}|{}|{}\\n-----\\n{}|{}|{}\\n-----\\n{}|{}|{}'.format(*self.board)\n",
    "        return s\n",
    "    def getNumberMovesExplored(self):\n",
    "        return self.movesExplored\n",
    "    def getWinningValue(self):\n",
    "        return 1"
   ]
  },
  {
   "cell_type": "markdown",
   "metadata": {},
   "source": [
    "We now have the following function *playGame* which runs the game."
   ]
  },
  {
   "cell_type": "markdown",
   "metadata": {},
   "source": [
    "#### playGame"
   ]
  },
  {
   "cell_type": "code",
   "execution_count": 11,
   "metadata": {
    "collapsed": true
   },
   "outputs": [],
   "source": [
    "def playGame(game,opponent,depthLimit):\n",
    "    print(game)\n",
    "    while not game.isOver():\n",
    "        score,move = negamax(game,depthLimit)\n",
    "        if move == None :\n",
    "            print('move is None. Stopping.')\n",
    "            break\n",
    "        game.makeMove(move)\n",
    "        print('Player', game.player, 'to', move, 'for score' ,score)\n",
    "        print(game)\n",
    "        if not game.isOver():\n",
    "            game.changePlayer()\n",
    "            opponentMove = opponent(game.board)\n",
    "            game.makeMove(opponentMove)\n",
    "            print('Player', game.player, 'to', opponentMove)   ### FIXED ERROR IN THIS LINE!\n",
    "            print(game)\n",
    "            game.changePlayer()\n",
    "    print('Number of moves explored', game.getNumberMovesExplored())"
   ]
  },
  {
   "cell_type": "markdown",
   "metadata": {},
   "source": [
    "The function *opponent* will essentially act as the opponent in this game, but it uses the silly strategy of playing the first available position in the board."
   ]
  },
  {
   "cell_type": "markdown",
   "metadata": {},
   "source": [
    "#### opponent"
   ]
  },
  {
   "cell_type": "code",
   "execution_count": 12,
   "metadata": {
    "collapsed": true
   },
   "outputs": [],
   "source": [
    "def opponent(board):\n",
    "    return board.index(' ')"
   ]
  },
  {
   "cell_type": "markdown",
   "metadata": {},
   "source": [
    "Testing out *playGame*."
   ]
  },
  {
   "cell_type": "code",
   "execution_count": 13,
   "metadata": {
    "scrolled": true
   },
   "outputs": [
    {
     "name": "stdout",
     "output_type": "stream",
     "text": [
      " | | \n",
      "-----\n",
      " | | \n",
      "-----\n",
      " | | \n",
      "Player X to 0 for score 0\n",
      "X| | \n",
      "-----\n",
      " | | \n",
      "-----\n",
      " | | \n",
      "Player O to 1\n",
      "X|O| \n",
      "-----\n",
      " | | \n",
      "-----\n",
      " | | \n",
      "Player X to 3 for score 1\n",
      "X|O| \n",
      "-----\n",
      "X| | \n",
      "-----\n",
      " | | \n",
      "Player O to 2\n",
      "X|O|O\n",
      "-----\n",
      "X| | \n",
      "-----\n",
      " | | \n",
      "Player X to 4 for score 1\n",
      "X|O|O\n",
      "-----\n",
      "X|X| \n",
      "-----\n",
      " | | \n",
      "Player O to 5\n",
      "X|O|O\n",
      "-----\n",
      "X|X|O\n",
      "-----\n",
      " | | \n",
      "Player X to 6 for score 1\n",
      "X|O|O\n",
      "-----\n",
      "X|X|O\n",
      "-----\n",
      "X| | \n",
      "Number of moves explored 558334\n"
     ]
    }
   ],
   "source": [
    "game = TTT()\n",
    "playGame(game,opponent,20)"
   ]
  },
  {
   "cell_type": "markdown",
   "metadata": {},
   "source": [
    "## III. Negamax with Iterative-Deepening\n",
    "In the following cells we shall implement a function *negamaxIDS* which implements Negamax with Iterative-Deepening Search (IDS). In this function, multiple Negamax searches are performed for depths 1, 2, 3, ..., *maxDepth* (here *maxDepth* is the maximum depth of the graph which we specify). If a winning move is found before the maximum depth is reached, then IDS is halted. In the case of Tic-Tac-Toe, this winning value is 1.   "
   ]
  },
  {
   "cell_type": "markdown",
   "metadata": {},
   "source": [
    "#### negamaxIDS"
   ]
  },
  {
   "cell_type": "code",
   "execution_count": 14,
   "metadata": {
    "collapsed": true
   },
   "outputs": [],
   "source": [
    "def negamaxIDS(game, maxDepth):\n",
    "    # Iterate maxDepth+1 times\n",
    "    for depth in range(maxDepth + 1):\n",
    "        # Call negamax for each depth value.\n",
    "        result, move = negamax(game, depth)\n",
    "        # Get the winning value. \n",
    "        winVal = game.getWinningValue()\n",
    "        # If we arrive at the winning value, then break out and return the same.\n",
    "        if result == winVal:\n",
    "            break\n",
    "    return result, move"
   ]
  },
  {
   "cell_type": "code",
   "execution_count": 15,
   "metadata": {},
   "outputs": [
    {
     "data": {
      "text/plain": [
       "(1, 0)"
      ]
     },
     "execution_count": 15,
     "metadata": {},
     "output_type": "execute_result"
    }
   ],
   "source": [
    "game = TTT()\n",
    "negamaxIDS(game,5)"
   ]
  },
  {
   "cell_type": "markdown",
   "metadata": {},
   "source": [
    "## IV. Negamax with Iterative-Deepening and Alpha-Beta Pruning"
   ]
  },
  {
   "cell_type": "markdown",
   "metadata": {},
   "source": [
    "#### negamaxab"
   ]
  },
  {
   "cell_type": "code",
   "execution_count": 16,
   "metadata": {
    "collapsed": true
   },
   "outputs": [],
   "source": [
    "def negamaxab(game, depthLeft, alpha = -float('inf'), beta = float('inf')):\n",
    "    # If at terminal state or depth limit, return utility value and move None\n",
    "    if game.isOver() or depthLeft == 0:\n",
    "        return game.getUtility(), None\n",
    "    # Find best move and its value from current state\n",
    "    bestValue, bestMove = None, None\n",
    "    for move in game.getMoves():\n",
    "        # Apply a move to current state\n",
    "        game.makeMove(move)\n",
    "        # Use depth-first search to find eventual utility value and back it up.\n",
    "        #  Negate it because it will come back in context of next player\n",
    "        value, _ = negamaxab(game, depthLeft-1, -beta, -alpha)\n",
    "        # Remove the move from current state, to prepare for trying a different move\n",
    "        game.unmakeMove(move)\n",
    "        if value is None:\n",
    "            continue\n",
    "        value = - value\n",
    "        if bestValue is None or value > bestValue:\n",
    "            # Value for this move is better than moves tried so far from this state.\n",
    "            bestValue, bestMove = value, move\n",
    "        alpha = max(bestValue, alpha)\n",
    "        if bestValue >= beta:\n",
    "            return bestValue, bestMove\n",
    "    return bestValue, bestMove"
   ]
  },
  {
   "cell_type": "markdown",
   "metadata": {},
   "source": [
    "#### negamaxIDSab"
   ]
  },
  {
   "cell_type": "code",
   "execution_count": 17,
   "metadata": {
    "collapsed": true
   },
   "outputs": [],
   "source": [
    "def negamaxIDSab(game, maxDepth):\n",
    "    for depth in range(maxDepth + 1):\n",
    "        #print(\"We're at depth: \", depth)\n",
    "        # CALLING negamax FOR EACH DEPTH VALUE\n",
    "        result, move = negamaxab(game, depth)\n",
    "        winVal = game.getWinningValue()\n",
    "        if result == winVal:\n",
    "            return result, move\n",
    "    return result, move"
   ]
  },
  {
   "cell_type": "markdown",
   "metadata": {},
   "source": [
    "Let's try out *negamaxab* and *negamaxIDSab*."
   ]
  },
  {
   "cell_type": "code",
   "execution_count": 18,
   "metadata": {},
   "outputs": [
    {
     "data": {
      "text/plain": [
       "(1, 0)"
      ]
     },
     "execution_count": 18,
     "metadata": {},
     "output_type": "execute_result"
    }
   ],
   "source": [
    "negamaxab(game, 5)"
   ]
  },
  {
   "cell_type": "code",
   "execution_count": 19,
   "metadata": {},
   "outputs": [
    {
     "data": {
      "text/plain": [
       "(1, 0)"
      ]
     },
     "execution_count": 19,
     "metadata": {},
     "output_type": "execute_result"
    }
   ],
   "source": [
    "negamaxIDSab(game, 5)"
   ]
  },
  {
   "cell_type": "markdown",
   "metadata": {},
   "source": [
    "## V. Comparision\n",
    "We shall now compare the different algorithms implemented in this Notebook, and observe the differences between them. For this purpose, the function *playGames* is constructed. This functions essentially runs a game for each algorithm and displays the following information:\n",
    "1. Number of nodes visited by the algorithm\n",
    "2. Number of moves made by X\n",
    "3. Depth of the game\n",
    "4. Effective Branching Factor"
   ]
  },
  {
   "cell_type": "markdown",
   "metadata": {},
   "source": [
    "### V.a. Function to calculate the Effective Branching Factor"
   ]
  },
  {
   "cell_type": "markdown",
   "metadata": {},
   "source": [
    "#### ebf"
   ]
  },
  {
   "cell_type": "code",
   "execution_count": 20,
   "metadata": {
    "collapsed": true
   },
   "outputs": [],
   "source": [
    "# This function computes the Effective Branching Factor (EBF) for a tree with 'nNodes' nodes and depth 'depth'. \n",
    "# We use Binary Search to compute the EBF.\n",
    "def ebf(nNodes, depth, precision = 0.01):\n",
    "    # Initialize low and high values.\n",
    "    left = 1\n",
    "    right = nNodes\n",
    "    # If no nodes in tree return 0\n",
    "    if nNodes == 0:\n",
    "        return 0\n",
    "    # Keep iterating till the difference between left and right is lesser than the specified precision.\n",
    "    b = 1.0\n",
    "    while(True):\n",
    "        # If the difference is lesser than the precision, then break out.\n",
    "        if abs(right - left) <= precision:\n",
    "            break\n",
    "        # Get the middle value\n",
    "        b = (left + right)/2\n",
    "        # Solve equation to find n\n",
    "        n = (pow(b, (depth+1)) - 1)/(b - 1)\n",
    "        if nNodes < n:\n",
    "            right = b - precision\n",
    "        elif nNodes > n:\n",
    "            left = b + precision\n",
    "        else:\n",
    "            return b\n",
    "    return b    "
   ]
  },
  {
   "cell_type": "markdown",
   "metadata": {},
   "source": [
    "### V.b. Function to print results in a comparable manner\n",
    "The following cell contains the implementation for the *playGames* function which takes in the following parameters:\n",
    "1. opponent: A function which generates moves for the opponent.\n",
    "2. depthLimit: The maximum depth of the search tree, to which the algorithm can explore.\n",
    "3. funList: The list of functions which represent different search algorithms to be used to play the game.\n",
    "\n",
    "For each function specified in *funList*, *playGames* plays a complete Tic-Tac-Toe game. After all the games have been played (with all the algorithms), the above mentioned data is displayed side-by-side, for our analysis.  "
   ]
  },
  {
   "cell_type": "markdown",
   "metadata": {},
   "source": [
    "#### playGames "
   ]
  },
  {
   "cell_type": "code",
   "execution_count": 25,
   "metadata": {
    "collapsed": true
   },
   "outputs": [],
   "source": [
    "def playGames(opponent,depthLimit, funlist):\n",
    "    # Create an empty list to maintain a list of strings which are to be printed at the ned.\n",
    "    strlst = []\n",
    "    for fun in funlist:\n",
    "        print()\n",
    "        print(fun.__name__, ':')\n",
    "        game = TTT()\n",
    "        print(game)\n",
    "        while not game.isOver():\n",
    "            score,move = fun(game,depthLimit)\n",
    "            if move == None :\n",
    "                print('move is None. Stopping.')\n",
    "                break\n",
    "            game.makeMove(move)\n",
    "            print('Player', game.player, 'to', move, 'for score' ,score)\n",
    "            print(game)\n",
    "            if not game.isOver():\n",
    "                game.changePlayer()\n",
    "                opponentMove = opponent(game.board)\n",
    "                #print(opponentMove)\n",
    "                game.makeMove(opponentMove)\n",
    "                print('Player', game.player, 'to', opponentMove)   ### FIXED ERROR IN THIS LINE!\n",
    "                print(game)\n",
    "                game.changePlayer()\n",
    "        # Get depth\n",
    "        xl = len(game.locations('X'))\n",
    "        ol = len(game.locations('O'))\n",
    "        dep =  xl + ol\n",
    "        strlst.append(fun.__name__ + ' made ' + str(len(game.locations('X'))) + ' moves. ' + str(game.getNumberMovesExplored()) + ' moves explored for ebf(' + str(game.getNumberMovesExplored()) + ', ' + str(dep) + ') of ' + str(round(ebf(game.getNumberMovesExplored(), dep), 2)))\n",
    "    for s in strlst:\n",
    "        print(s)"
   ]
  },
  {
   "cell_type": "code",
   "execution_count": 26,
   "metadata": {
    "scrolled": true
   },
   "outputs": [
    {
     "name": "stdout",
     "output_type": "stream",
     "text": [
      "\n",
      "negamax :\n",
      " | | \n",
      "-----\n",
      " | | \n",
      "-----\n",
      " | | \n",
      "Player X to 0 for score 0\n",
      "X| | \n",
      "-----\n",
      " | | \n",
      "-----\n",
      " | | \n",
      "Player O to 1\n",
      "X|O| \n",
      "-----\n",
      " | | \n",
      "-----\n",
      " | | \n",
      "Player X to 3 for score 1\n",
      "X|O| \n",
      "-----\n",
      "X| | \n",
      "-----\n",
      " | | \n",
      "Player O to 2\n",
      "X|O|O\n",
      "-----\n",
      "X| | \n",
      "-----\n",
      " | | \n",
      "Player X to 4 for score 1\n",
      "X|O|O\n",
      "-----\n",
      "X|X| \n",
      "-----\n",
      " | | \n",
      "Player O to 5\n",
      "X|O|O\n",
      "-----\n",
      "X|X|O\n",
      "-----\n",
      " | | \n",
      "Player X to 6 for score 1\n",
      "X|O|O\n",
      "-----\n",
      "X|X|O\n",
      "-----\n",
      "X| | \n",
      "\n",
      "negamaxIDS :\n",
      " | | \n",
      "-----\n",
      " | | \n",
      "-----\n",
      " | | \n",
      "Player X to 0 for score 1\n",
      "X| | \n",
      "-----\n",
      " | | \n",
      "-----\n",
      " | | \n",
      "Player O to 1\n",
      "X|O| \n",
      "-----\n",
      " | | \n",
      "-----\n",
      " | | \n",
      "Player X to 3 for score 1\n",
      "X|O| \n",
      "-----\n",
      "X| | \n",
      "-----\n",
      " | | \n",
      "Player O to 2\n",
      "X|O|O\n",
      "-----\n",
      "X| | \n",
      "-----\n",
      " | | \n",
      "Player X to 6 for score 1\n",
      "X|O|O\n",
      "-----\n",
      "X| | \n",
      "-----\n",
      "X| | \n",
      "\n",
      "negamaxIDSab :\n",
      " | | \n",
      "-----\n",
      " | | \n",
      "-----\n",
      " | | \n",
      "Player X to 0 for score 1\n",
      "X| | \n",
      "-----\n",
      " | | \n",
      "-----\n",
      " | | \n",
      "Player O to 1\n",
      "X|O| \n",
      "-----\n",
      " | | \n",
      "-----\n",
      " | | \n",
      "Player X to 3 for score 1\n",
      "X|O| \n",
      "-----\n",
      "X| | \n",
      "-----\n",
      " | | \n",
      "Player O to 2\n",
      "X|O|O\n",
      "-----\n",
      "X| | \n",
      "-----\n",
      " | | \n",
      "Player X to 6 for score 1\n",
      "X|O|O\n",
      "-----\n",
      "X| | \n",
      "-----\n",
      "X| | \n",
      "negamax made 4 moves. 558334 moves explored for ebf(558334, 7) of 6.46\n",
      "negamaxIDS made 3 moves. 23338 moves explored for ebf(23338, 5) of 7.24\n",
      "negamaxIDSab made 3 moves. 6053 moves explored for ebf(6053, 5) of 5.49\n"
     ]
    }
   ],
   "source": [
    "playGames(opponent, 10, [negamax, negamaxIDS, negamaxIDSab])"
   ]
  },
  {
   "cell_type": "markdown",
   "metadata": {},
   "source": [
    "## Grader Result"
   ]
  },
  {
   "cell_type": "code",
   "execution_count": 27,
   "metadata": {
    "scrolled": true
   },
   "outputs": [
    {
     "name": "stdout",
     "output_type": "stream",
     "text": [
      "\n",
      "Testing negamax starting from ['O', 'X', ' ', 'O', ' ', ' ', ' ', 'X', ' ']\n",
      "\n",
      "--- 10/10 points. negamax correctly returns value of 1\n",
      "\n",
      "--- 10/10 points. negamax correctly explored 124 states.\n",
      "\n",
      "Testing negamax starting from ['O', 'X', 'X', 'O', 'O', ' ', ' ', 'X', ' ']\n",
      "\n",
      "--- 10/10 points. negamax correctly returns value of -1 and move of 5\n",
      "\n",
      "Testing negamaxIDS with max depth of 5, starting from ['O', 'X', 'X', 'O', 'O', ' ', ' ', 'X', ' ']\n",
      "\n",
      "--- 10/10 points. negamaxIDS correctly returns value of -1 and move of 5\n",
      "\n",
      "Testing negamaxIDSab starting from ['O', 'X', 'X', 'O', 'O', ' ', ' ', 'X', ' ']\n",
      "\n",
      "--- 20/20 points. negamaxIDSab correctly returns value of -1 and move of 5\n",
      "\n",
      "Testing playGame with opponent that always plays in highest numbered position.\n",
      " | | \n",
      "-----\n",
      " | | \n",
      "-----\n",
      " | | \n",
      "Player X to 0 for score 0\n",
      "X| | \n",
      "-----\n",
      " | | \n",
      "-----\n",
      " | | \n",
      "Player O to 8\n",
      "X| | \n",
      "-----\n",
      " | | \n",
      "-----\n",
      " | |O\n",
      "Player X to 2 for score 1\n",
      "X| |X\n",
      "-----\n",
      " | | \n",
      "-----\n",
      " | |O\n",
      "Player O to 7\n",
      "X| |X\n",
      "-----\n",
      " | | \n",
      "-----\n",
      " |O|O\n",
      "Player X to 1 for score 1\n",
      "X|X|X\n",
      "-----\n",
      " | | \n",
      "-----\n",
      " |O|O\n",
      "\n",
      "--- 10/10 points. playGame correctly wins by filling top row with Xs.\n",
      "\n",
      "C:\\Users\\Vignesh\\Documents\\Colorado State University\\Courses\\CS440 - Introduction to Artificial Intelligence - Chuck Anderson\\Assignments Execution Grade is 70/70\n",
      "\n",
      " Remaining 30 points will be based on the output of your playGames function.\n",
      "\n",
      "C:\\Users\\Vignesh\\Documents\\Colorado State University\\Courses\\CS440 - Introduction to Artificial Intelligence - Chuck Anderson\\Assignments FINAL GRADE is __/100\n"
     ]
    }
   ],
   "source": [
    "%run -i A4grader.py"
   ]
  },
  {
   "cell_type": "markdown",
   "metadata": {},
   "source": [
    "## VI. Extra Credit Problems"
   ]
  },
  {
   "cell_type": "markdown",
   "metadata": {},
   "source": [
    "### VI.a. A New Game: Adding to Fifty Apples"
   ]
  },
  {
   "cell_type": "markdown",
   "metadata": {},
   "source": [
    "#### i. Game Description\n",
    "We have two players, A and B. Each player can choose between 1 and 9 (inclusive) apples to add to a bag (which is empty initially) and take turns in doing so. This bag can hold a maximum of 50 apples only. \n",
    "\n",
    "The objective of each player is to try and be the last person to insert an apple/apples into the bag. The player who inserts into the bag last is considered to have won the game."
   ]
  },
  {
   "cell_type": "markdown",
   "metadata": {},
   "source": [
    "#### ii. Implementation of Game Class\n",
    "The class *addingToFifty* represents the class for the above game. In this class, we define various functions specific to this game, which shall be explained in more detail through comments in the cell below."
   ]
  },
  {
   "cell_type": "code",
   "execution_count": 28,
   "metadata": {
    "collapsed": true
   },
   "outputs": [],
   "source": [
    "class addingToFifty(object):\n",
    "    # Constructor which initializes various parameters. 'movesExplore' represents the counter maintained for counting the \n",
    "    # number of nodes visited by the algorithm. 'board' represents the bag with a certain number of apples. 'player' is the\n",
    "    # current player. 'acount' and 'bcount' are used to count the number of moves made by A and B respectively.\n",
    "    def __init__(self):\n",
    "        self.movesExplored = 0\n",
    "        self.board = 0\n",
    "        self.player = 'A'\n",
    "        self.playerLookAHead = self.player\n",
    "        self.acount = 0\n",
    "        self.bcount = 0 \n",
    "        \n",
    "    # Returns the available moves. \n",
    "    def getMoves(self):\n",
    "        # Choose a number of apples between 1 and 9. \n",
    "        moves = range(1,10)\n",
    "        moves = list(moves)\n",
    "        # If adding any of these moves to bag gets the number of apples to be more than 50, then remove said move.\n",
    "        for i in moves:\n",
    "            n = self.board + i\n",
    "            if n > 50:\n",
    "                # Remove this move from moves list (since it's invalid).\n",
    "                moves.remove(i)\n",
    "        return moves\n",
    "    \n",
    "    # Returns the utility value. \n",
    "    def getUtility(self):\n",
    "        # Terminating condition\n",
    "        if self.board == 50:\n",
    "            # A wins\n",
    "            if self.playerLookAHead == 'A':\n",
    "                return 1\n",
    "            # B wins\n",
    "            else:\n",
    "                return -1\n",
    "        # No draws can occur in this game.\n",
    "        else:\n",
    "            return None \n",
    "    \n",
    "    # To check if the game is over.\n",
    "    def isOver(self):\n",
    "        return self.getUtility() is not None\n",
    "\n",
    "    # Apply a given move onto a given state of the game.\n",
    "    def makeMove(self, move):\n",
    "        # Increment moves counter.\n",
    "        self.movesExplored += 1\n",
    "        # Update the 'bag' based on move i.e. add the chosen number to board.\n",
    "        self.board += move\n",
    "        # Switch players after a play\n",
    "        self.playerLookAHead = 'A' if self.playerLookAHead == 'B' else 'B'\n",
    "    \n",
    "    # Function to change players.\n",
    "    def changePlayer(self):\n",
    "        self.player = 'A' if self.player == 'B' else 'B'\n",
    "        self.playerLookAHead = self.player\n",
    "\n",
    "    # Function to undo a move. \n",
    "    def unmakeMove(self, move):\n",
    "        # To undo, we just need to subtract the previously added number to board.\n",
    "        self.board -= move\n",
    "        self.playerLookAHead = 'A' if self.playerLookAHead == 'B' else 'B'\n",
    "\n",
    "    # To print the game.\n",
    "    def __str__(self):\n",
    "        return str(self.board)\n",
    "    \n",
    "    # Returns total number of nodes visited.\n",
    "    def getNumberMovesExplored(self):\n",
    "        return self.movesExplored\n",
    "    \n",
    "    # The winning value for this game. \n",
    "    def getWinningValue(self):\n",
    "        # In this game, 1 is the winning value.\n",
    "        return 1\n",
    "\n",
    "    # Function to increment the moves made by A and B.\n",
    "    def incCount(self):\n",
    "        if self.playerLookAHead == 'A':\n",
    "            self.acount += 1\n",
    "        else:\n",
    "            self.bcount += 1"
   ]
  },
  {
   "cell_type": "markdown",
   "metadata": {},
   "source": [
    "#### iii. Opponent Definition\n",
    "Here we define an opponent which chooses a random number of apples to insert into the bag."
   ]
  },
  {
   "cell_type": "markdown",
   "metadata": {},
   "source": [
    "#### opponent2"
   ]
  },
  {
   "cell_type": "code",
   "execution_count": 29,
   "metadata": {
    "collapsed": true
   },
   "outputs": [],
   "source": [
    "import random as rd\n",
    "def opponent2(board):\n",
    "    \n",
    "    diff = 50 - board\n",
    "    # If it's possible to insert more apples than the maximum capacity of the bag, then choose pseudo-random number such that\n",
    "    # the maximum capacity of the bag (50) is not exceeded.\n",
    "    if diff <= 8:\n",
    "        r = rd.randint(1,diff)\n",
    "    # Otherwise, just select pseudo-random number between 1 and 9 (inclusive).\n",
    "    else:\n",
    "        r = rd.randint(1, 9)\n",
    "    return r"
   ]
  },
  {
   "cell_type": "markdown",
   "metadata": {},
   "source": [
    "#### iv. Function to play the game\n",
    "The function *playGames2* is similar to the *playGames* implementation above. It's essentially been modified a little to play the 'Adding to Fifty Apples' game specified here, with the different algorithms. "
   ]
  },
  {
   "cell_type": "markdown",
   "metadata": {},
   "source": [
    "#### playGames2"
   ]
  },
  {
   "cell_type": "code",
   "execution_count": 30,
   "metadata": {
    "collapsed": true
   },
   "outputs": [],
   "source": [
    "def playGames2(opponent, depthLimit, funlist):\n",
    "    # Create an empty list to maintain a list of strings which are to be printed at the end.\n",
    "    strlst = []\n",
    "    for fun in funlist: # Iterate through the functions provided in funlist.\n",
    "        # Print function name first\n",
    "        print()\n",
    "        print(fun.__name__, ':')\n",
    "        \n",
    "        # Instantiate an object of the addingToFifty class.\n",
    "        game = addingToFifty()\n",
    "        print(game)\n",
    "        \n",
    "        # Loop till game isn't over\n",
    "        while not game.isOver():\n",
    "            \n",
    "            # Call the function (algorithm).\n",
    "            score,move = fun(game,depthLimit)\n",
    "            \n",
    "            # If depthLimit specified is insufficient to find a solution.\n",
    "            if move == None :\n",
    "                print('move is None. Stopping.')\n",
    "                break\n",
    "            # Increment acount and bcount\n",
    "            game.incCount()\n",
    "            # Commit move\n",
    "            game.makeMove(move)\n",
    "            # Print the move made and the player's incentive.\n",
    "            print('Player', game.player, 'to', move, 'for score' ,score)\n",
    "            print(game)\n",
    "            if not game.isOver():\n",
    "                # If game still isn't over, switch players and let opponent make the next move.\n",
    "                game.changePlayer()\n",
    "                opponentMove = opponent(game.board)\n",
    "                # Commit opponent's move\n",
    "                game.makeMove(opponentMove)\n",
    "                # Print move made by opponent.\n",
    "                print('Player', game.player, 'to', opponentMove)\n",
    "                print(game)\n",
    "                # After opponent is done, switch players again.\n",
    "                game.changePlayer()\n",
    "        # Get depth\n",
    "        dep =  game.acount + game.bcount\n",
    "        # Keep appending results string for each function. \n",
    "        strlst.append(fun.__name__ + ' made ' + str(game.acount) + ' moves. ' + str(game.getNumberMovesExplored()) + ' moves explored for ebf(' + str(game.getNumberMovesExplored()) + ', ' + str(dep) + ') of ' + str(round(ebf(game.getNumberMovesExplored(), dep), 2)))\n",
    "    # Print the results side by side.\n",
    "    for s in strlst:\n",
    "        print(s)"
   ]
  },
  {
   "cell_type": "code",
   "execution_count": 33,
   "metadata": {
    "scrolled": true
   },
   "outputs": [
    {
     "name": "stdout",
     "output_type": "stream",
     "text": [
      "\n",
      "negamax :\n",
      "0\n",
      "Player A to 5 for score 1\n",
      "5\n",
      "Player B to 2\n",
      "7\n",
      "Player A to 1 for score 1\n",
      "8\n",
      "Player B to 6\n",
      "14\n",
      "Player A to 1 for score 1\n",
      "15\n",
      "Player B to 4\n",
      "19\n",
      "Player A to 1 for score 1\n",
      "20\n",
      "Player B to 6\n",
      "26\n",
      "Player A to 1 for score 1\n",
      "27\n",
      "Player B to 9\n",
      "36\n",
      "Player A to 1 for score 1\n",
      "37\n",
      "Player B to 5\n",
      "42\n",
      "Player A to 1 for score 1\n",
      "43\n",
      "Player B to 4\n",
      "47\n",
      "Player A to 1 for score 1\n",
      "48\n",
      "Player B to 1\n",
      "49\n",
      "Player A to 1 for score 1\n",
      "50\n",
      "\n",
      "negamaxIDS :\n",
      "0\n",
      "Player A to 5 for score 1\n",
      "5\n",
      "Player B to 2\n",
      "7\n",
      "Player A to 7 for score 1\n",
      "14\n",
      "Player B to 6\n",
      "20\n",
      "Player A to 3 for score 1\n",
      "23\n",
      "Player B to 2\n",
      "25\n",
      "Player A to 7 for score 1\n",
      "32\n",
      "Player B to 6\n",
      "38\n",
      "Player A to 3 for score 1\n",
      "41\n",
      "Player B to 9\n",
      "50\n",
      "\n",
      "negamaxIDSab :\n",
      "0\n",
      "Player A to 5 for score 1\n",
      "5\n",
      "Player B to 8\n",
      "13\n",
      "Player A to 1 for score 1\n",
      "14\n",
      "Player B to 8\n",
      "22\n",
      "Player A to 1 for score 1\n",
      "23\n",
      "Player B to 6\n",
      "29\n",
      "Player A to 3 for score 1\n",
      "32\n",
      "Player B to 4\n",
      "36\n",
      "Player A to 5 for score 1\n",
      "41\n",
      "Player B to 5\n",
      "46\n",
      "Player A to 4 for score 1\n",
      "50\n",
      "negamax made 9 moves. 2483623 moves explored for ebf(2483623, 9) of 5.01\n",
      "negamaxIDS made 5 moves. 756487 moves explored for ebf(756487, 5) of 14.77\n",
      "negamaxIDSab made 6 moves. 649830 moves explored for ebf(649830, 6) of 9.14\n"
     ]
    }
   ],
   "source": [
    "playGames2(opponent2, 6, [negamax, negamaxIDS, negamaxIDSab])"
   ]
  },
  {
   "cell_type": "markdown",
   "metadata": {},
   "source": [
    "### VI.b. Random Move-Choosing Opponent"
   ]
  },
  {
   "cell_type": "markdown",
   "metadata": {},
   "source": [
    "#### i. Implementation of Opponent\n",
    "In the following cell, we define a new opponent with the function *opponent3* for playing Tic-Tac-Toe with. This opponent has been designed to make random moves across the board. "
   ]
  },
  {
   "cell_type": "markdown",
   "metadata": {},
   "source": [
    "#### opponent3"
   ]
  },
  {
   "cell_type": "code",
   "execution_count": 34,
   "metadata": {
    "collapsed": true
   },
   "outputs": [],
   "source": [
    "def opponent3(board):\n",
    "    # Find out empty positions in the game board.\n",
    "    moves = [i for i, mark in enumerate(board) if mark == ' ']\n",
    "    # Generate random integer. This shall be used as the index for 'moves' list, thereby producing a random move.\n",
    "    r = rd.randint(0, len(moves)-1)\n",
    "    return moves[r]"
   ]
  },
  {
   "cell_type": "markdown",
   "metadata": {},
   "source": [
    "Let's try playing a game with this opponent. "
   ]
  },
  {
   "cell_type": "code",
   "execution_count": 36,
   "metadata": {
    "scrolled": true
   },
   "outputs": [
    {
     "name": "stdout",
     "output_type": "stream",
     "text": [
      "\n",
      "negamaxIDSab :\n",
      " | | \n",
      "-----\n",
      " | | \n",
      "-----\n",
      " | | \n",
      "Player X to 0 for score 1\n",
      "X| | \n",
      "-----\n",
      " | | \n",
      "-----\n",
      " | | \n",
      "Player O to 5\n",
      "X| | \n",
      "-----\n",
      " | |O\n",
      "-----\n",
      " | | \n",
      "Player X to 1 for score 1\n",
      "X|X| \n",
      "-----\n",
      " | |O\n",
      "-----\n",
      " | | \n",
      "Player O to 2\n",
      "X|X|O\n",
      "-----\n",
      " | |O\n",
      "-----\n",
      " | | \n",
      "Player X to 8 for score 1\n",
      "X|X|O\n",
      "-----\n",
      " | |O\n",
      "-----\n",
      " | |X\n",
      "Player O to 3\n",
      "X|X|O\n",
      "-----\n",
      "O| |O\n",
      "-----\n",
      " | |X\n",
      "Player X to 4 for score 1\n",
      "X|X|O\n",
      "-----\n",
      "O|X|O\n",
      "-----\n",
      " | |X\n",
      "negamaxIDSab made 4 moves. 6085 moves explored for ebf(6085, 7) of 3.29\n"
     ]
    }
   ],
   "source": [
    "playGames(opponent3, 10, [negamaxIDSab])"
   ]
  },
  {
   "cell_type": "markdown",
   "metadata": {},
   "source": [
    "#### ii. Win Rate of Player X against this opponent \n",
    "Let's try to find out the number of times X wins over this opponent, as an average over multiple games. For doing this, we define the function below. It takes in an opponent function (*opponent*), *depthLimit*, a list of algorithms to try (*funlist*) and *n*, through which we can specify the number of games to play.\n",
    "\n",
    "The function computes the average number of games X has won over the total number of games played and displays it as a percentage. "
   ]
  },
  {
   "cell_type": "markdown",
   "metadata": {},
   "source": [
    "#### winRate"
   ]
  },
  {
   "cell_type": "code",
   "execution_count": 37,
   "metadata": {
    "collapsed": true
   },
   "outputs": [],
   "source": [
    "def winRate(opponent, depthLimit, funlist, n):\n",
    "    # Iterate through funlist\n",
    "    for fun in funlist:\n",
    "        # Print the name of the function being tried out currently.\n",
    "        print()\n",
    "        print('Now we are trying out function: ', fun.__name__)\n",
    "        # Maintain a list to append the score of each game that is played.\n",
    "        scorelist = []\n",
    "        # Loop to play 'n' games.\n",
    "        for i in range(n):\n",
    "            # Instantiate TTT object\n",
    "            game = TTT()\n",
    "            while not game.isOver():\n",
    "                # Call function (algorithm)\n",
    "                score,move = fun(game,depthLimit)\n",
    "                # If depthLimit is not sufficient\n",
    "                if move == None :\n",
    "                    print('Insufficient depth specified. Stopping game!')\n",
    "                    break\n",
    "                # Apply move\n",
    "                game.makeMove(move)\n",
    "                if not game.isOver():\n",
    "                    # Change player and let opponent make move.\n",
    "                    game.changePlayer()\n",
    "                    opponentMove = opponent(game.board)\n",
    "                    game.makeMove(opponentMove)\n",
    "                    game.changePlayer()\n",
    "            # Get score for the current game and append it to a score list.\n",
    "            scorelist.append(score)\n",
    "        # Here, we compute the average number of games won by player X. \n",
    "        # If the 'score' value returned is 1, then X has won the game. Otherwise, it's either a draw or a loss, in which\n",
    "        # case, 0 or -1 is returned respectively.\n",
    "        # We then divide the number of times X has won (number of occurances of 1 in scorelist) with the total \n",
    "        # number of games played which is n.  \n",
    "        average = (scorelist.count(1)/n) * 100 # We multiply by 100 to express the fraction as a percentage.\n",
    "        # Print the results.\n",
    "        print('In', n, ' games, player X has won', average, \"% of the times against player Y.\" )\n",
    "        print()\n"
   ]
  },
  {
   "cell_type": "markdown",
   "metadata": {},
   "source": [
    "Let's play 50 Tic-Tac-Toe games against this opponent, with negamaxIDSab. "
   ]
  },
  {
   "cell_type": "code",
   "execution_count": 41,
   "metadata": {},
   "outputs": [
    {
     "name": "stdout",
     "output_type": "stream",
     "text": [
      "\n",
      "Now we are trying out function:  negamaxIDS\n",
      "In 50  games, player X has won 98.0 % of the times against player Y.\n",
      "\n",
      "\n",
      "Now we are trying out function:  negamaxIDSab\n",
      "In 50  games, player X has won 96.0 % of the times against player Y.\n",
      "\n"
     ]
    }
   ],
   "source": [
    "winRate(opponent3, 10, [negamaxIDS, negamaxIDSab], 50)"
   ]
  }
 ],
 "metadata": {
  "kernelspec": {
   "display_name": "Python 3",
   "language": "python",
   "name": "python3"
  },
  "language_info": {
   "codemirror_mode": {
    "name": "ipython",
    "version": 3
   },
   "file_extension": ".py",
   "mimetype": "text/x-python",
   "name": "python",
   "nbconvert_exporter": "python",
   "pygments_lexer": "ipython3",
   "version": "3.6.0"
  }
 },
 "nbformat": 4,
 "nbformat_minor": 2
}
